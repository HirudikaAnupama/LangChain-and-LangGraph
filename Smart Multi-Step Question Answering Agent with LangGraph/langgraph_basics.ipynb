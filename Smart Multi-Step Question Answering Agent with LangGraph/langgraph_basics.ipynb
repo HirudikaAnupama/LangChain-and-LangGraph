{
 "cells": [
  {
   "cell_type": "markdown",
   "id": "79071e6f",
   "metadata": {},
   "source": [
    "### Environment Loading"
   ]
  },
  {
   "cell_type": "markdown",
   "id": "7eb1ad0e",
   "metadata": {},
   "source": [
    "- `dotenv`is used to load environment variables from a `.env` file.\n",
    "- After `load_dotenv()` is used to fetch the environment keys \n",
    "- If api key is not found, it raises a `ValueError`."
   ]
  },
  {
   "cell_type": "code",
   "execution_count": 1,
   "id": "b60929c1",
   "metadata": {},
   "outputs": [],
   "source": [
    "import os\n",
    "from dotenv import load_dotenv"
   ]
  },
  {
   "cell_type": "code",
   "execution_count": 2,
   "id": "83d6e8a6",
   "metadata": {},
   "outputs": [
    {
     "data": {
      "text/plain": [
       "True"
      ]
     },
     "execution_count": 2,
     "metadata": {},
     "output_type": "execute_result"
    }
   ],
   "source": [
    "load_dotenv() # load environment variables from .env file"
   ]
  },
  {
   "cell_type": "code",
   "execution_count": 3,
   "id": "43725fe7",
   "metadata": {},
   "outputs": [],
   "source": [
    "OPENAI_API_KEY = os.getenv(\"OPENAI_API_KEY\")\n",
    "if not OPENAI_API_KEY:\n",
    "    raise ValueError(\"Missing OPENAI_API_KEY in .env\")"
   ]
  },
  {
   "cell_type": "markdown",
   "id": "80e82628",
   "metadata": {},
   "source": [
    "### LangChain Chat Model Setup"
   ]
  },
  {
   "cell_type": "markdown",
   "id": "f8b0a9ab",
   "metadata": {},
   "source": [
    "- `ChatOpenAI` is LangChain's wrapper around OpenAI's chat endpoints\n",
    "- `model=\"gpt-4o-mini\"` specifies the model to use\n",
    "- `temperature=0.7` controls the randomness of the model's responses\n",
    "- `openai_api_key=OPENAI_API_KEY` sets the API key for authentication"
   ]
  },
  {
   "cell_type": "code",
   "execution_count": 6,
   "id": "36d2b7a0",
   "metadata": {},
   "outputs": [],
   "source": [
    "from langchain_openai import ChatOpenAI\n",
    "\n",
    "llm = ChatOpenAI(\n",
    "    model = \"gpt-4o-mini\",\n",
    "    temperature = 0.7,\n",
    "    openai_api_key = OPENAI_API_KEY\n",
    ")"
   ]
  },
  {
   "cell_type": "markdown",
   "id": "7a94137c",
   "metadata": {},
   "source": [
    "### Defining a Custom Tool"
   ]
  },
  {
   "cell_type": "markdown",
   "id": "b6652fe5",
   "metadata": {},
   "source": [
    "- The `@tool` decorator registers Python function so LangChain can call it.\n",
    "- `simple_math_tool` takes a string `(\"5+7\")` and returns the computed result\n",
    "- Wrapping it in `Tool(...)` gives:\n",
    "    - A name `(\"Calculator\")`\n",
    "    - The actual **callable** `(func=…)`\n",
    "    - A description so agents know when to use it."
   ]
  },
  {
   "cell_type": "code",
   "execution_count": 18,
   "id": "5f1a30f9",
   "metadata": {},
   "outputs": [],
   "source": [
    "from langchain.tools import Tool\n",
    "from langchain.agents.tools import tool\n",
    "\n",
    "# @tool(description=\"Do basic math from string input like '2 + 2'.\")\n",
    "@tool\n",
    "def simple_math_tool(query: str) -> str:\n",
    "    \"\"\"Do basic math from string input like '2 + 2'.\"\"\"     # LLM needs a tool description to use it correctly\n",
    "    try:\n",
    "        return f\"Math result: {eval(query)}\"\n",
    "    except Exception as e:\n",
    "        return f\"Error: {e}\"\n",
    "\n",
    "math_tool = Tool(\n",
    "    name=\"Calculator\",\n",
    "    func=simple_math_tool,\n",
    "    description=\"Do basic math\"\n",
    ")\n"
   ]
  },
  {
   "cell_type": "markdown",
   "id": "1f03f7e0",
   "metadata": {},
   "source": [
    "### Creating a LangChain Agent"
   ]
  },
  {
   "cell_type": "markdown",
   "id": "da31c72a",
   "metadata": {},
   "source": [
    "- Agents are “smart” wrappers that decide which tool (or LLM) to call given a user query.\n",
    "\n",
    "- `ZERO_SHOT_REACT_DESCRIPTION` means:\n",
    "\n",
    "    - Read the user’s input.\n",
    "\n",
    "    - “Reason” (REACT) about which tool to use (zero‑shot, no prior examples).\n",
    "\n",
    "- `tools=[math_tool]` tells it you only have a calculator available.\n",
    "\n",
    "- `verbose=True` prints out what the agent is doing step by step."
   ]
  },
  {
   "cell_type": "code",
   "execution_count": 20,
   "id": "0e2d7f45",
   "metadata": {},
   "outputs": [
    {
     "name": "stderr",
     "output_type": "stream",
     "text": [
      "C:\\Users\\HirudikaAnupama\\AppData\\Local\\Temp\\ipykernel_15524\\125389324.py:4: LangChainDeprecationWarning: LangChain agents will continue to be supported, but it is recommended for new use cases to be built with LangGraph. LangGraph offers a more flexible and full-featured framework for building agents, including support for tool-calling, persistence of state, and human-in-the-loop workflows. For details, refer to the `LangGraph documentation <https://langchain-ai.github.io/langgraph/>`_ as well as guides for `Migrating from AgentExecutor <https://python.langchain.com/docs/how_to/migrate_agent/>`_ and LangGraph's `Pre-built ReAct agent <https://langchain-ai.github.io/langgraph/how-tos/create-react-agent/>`_.\n",
      "  agent = initialize_agent(\n"
     ]
    }
   ],
   "source": [
    "from langchain.agents import initialize_agent\n",
    "from langchain.agents.agent_types import AgentType\n",
    "\n",
    "agent = initialize_agent(\n",
    "    tools=[math_tool],\n",
    "    llm=llm,\n",
    "    agent=AgentType.ZERO_SHOT_REACT_DESCRIPTION,\n",
    "    verbose=True)"
   ]
  },
  {
   "cell_type": "markdown",
   "id": "546a0ca7",
   "metadata": {},
   "source": [
    "### Defining LangGraph Nodes"
   ]
  },
  {
   "cell_type": "markdown",
   "id": "841e2b35",
   "metadata": {},
   "source": [
    "- Nodes are pure Python functions that take a state dict and return a dict (new state) or a branch label.\n",
    "\n",
    "- `greet_node`\n",
    "\n",
    "    - Prints a greeting.\n",
    "\n",
    "    - Returns `{\"input\": inp}` so the user text is carried forward.\n",
    "\n",
    "- `router_fn`\n",
    "\n",
    "    - Reads `state[\"input\"].`\n",
    "\n",
    "    - If it sees a math operator, returns the string `\"math\"`, else `\"chat\".`\n",
    "\n",
    "    - That string tells LangGraph which node to execute next.\n",
    "\n",
    "- `math_node`\n",
    "\n",
    "    - Calls the LangChain agent, which in turn calls your `Calculator` tool.\n",
    "\n",
    "    - Returns `{\"response\": ...},` storing the answer in state.\n",
    "\n",
    "- `chat_node`\n",
    "\n",
    "    - Calls the LLM directly via `llm.invoke(...).`\n",
    "\n",
    "    - Returns the LLM’s answer in `state[\"response\"].`"
   ]
  },
  {
   "cell_type": "code",
   "execution_count": 21,
   "id": "2ee0b60e",
   "metadata": {},
   "outputs": [],
   "source": [
    "from langgraph.graph import StateGraph, END\n",
    "\n",
    "def greet_node(state):\n",
    "    inp = state.get(\"input\", \"\")\n",
    "    print(\"Greet Node\")\n",
    "    print(\"Bot: Hi! Ask me anything.\")\n",
    "    return {\"input\": inp}"
   ]
  },
  {
   "cell_type": "code",
   "execution_count": 22,
   "id": "571dbd33",
   "metadata": {},
   "outputs": [],
   "source": [
    "def router_fn(state) -> str:\n",
    "    inp = state[\"input\"]\n",
    "    print(\"Routing based on input...\")\n",
    "    return \"math\" if any(op in inp for op in [\"+\", \"-\", \"*\", \"/\", \"%\", \"**\"]) else \"chat\""
   ]
  },
  {
   "cell_type": "code",
   "execution_count": 24,
   "id": "a1ea8af5",
   "metadata": {},
   "outputs": [],
   "source": [
    "def math_node(state):\n",
    "    inp = state[\"input\"]\n",
    "    print(\"Math Node\")\n",
    "    resp = agent.run(inp)\n",
    "    return {\"input\": inp, \"response\": resp}"
   ]
  },
  {
   "cell_type": "code",
   "execution_count": 25,
   "id": "2afa2f10",
   "metadata": {},
   "outputs": [],
   "source": [
    "def chat_node(state):\n",
    "    inp = state[\"input\"]\n",
    "    print(\"💬 Chat Node\")\n",
    "    resp = llm.invoke(inp)\n",
    "    return {\"input\": inp, \"response\": resp.content}"
   ]
  },
  {
   "cell_type": "markdown",
   "id": "1d6f24ea",
   "metadata": {},
   "source": [
    "### Building & Compiling the StateGraph"
   ]
  },
  {
   "cell_type": "markdown",
   "id": "003ba9dd",
   "metadata": {},
   "source": [
    "- `StateGraph(dict)`: uses a simple Python dict for state storage.\n",
    "\n",
    "- `add_node(name, fn)` registers each node under a key.\n",
    "\n",
    "- `set_entry_point(\"greet\")` says the first node to run is greet.\n",
    "\n",
    "- `add_conditional_edges(\"greet\", router_fn, {...})`:\n",
    "\n",
    "    - After `greet_node`, call `router_fn(state).`\n",
    "\n",
    "    - If it returns `\"math\"`, jump to `math` node; if \"chat\", go to chat.\n",
    "\n",
    "- `add_edge(\"math\", END)` and `(\"chat\", END)` end the workflow and return the final state.\n",
    "\n",
    "- `.compile()` optimizes the graph into an executable engine `(app).`"
   ]
  },
  {
   "cell_type": "code",
   "execution_count": 26,
   "id": "9aac7208",
   "metadata": {},
   "outputs": [],
   "source": [
    "graph = StateGraph(dict)\n",
    "\n",
    "graph.add_node(\"greet\", greet_node)\n",
    "graph.add_node(\"math\",   math_node)\n",
    "graph.add_node(\"chat\",   chat_node)\n",
    "\n",
    "graph.set_entry_point(\"greet\")\n",
    "\n",
    "graph.add_conditional_edges(\n",
    "    \"greet\",\n",
    "    router_fn,\n",
    "    {\"math\": \"math\", \"chat\": \"chat\"}\n",
    ")\n",
    "\n",
    "graph.add_edge(\"math\", END)\n",
    "graph.add_edge(\"chat\", END)\n",
    "\n",
    "app = graph.compile()\n"
   ]
  },
  {
   "cell_type": "markdown",
   "id": "09ebcbfb",
   "metadata": {},
   "source": [
    "### The Chat Loop"
   ]
  },
  {
   "cell_type": "code",
   "execution_count": null,
   "id": "74e10448",
   "metadata": {},
   "outputs": [
    {
     "name": "stdout",
     "output_type": "stream",
     "text": [
      "Greet Node\n",
      "Bot: Hi! Ask me anything.\n",
      "Routing based on input...\n",
      "💬 Chat Node\n",
      " Bot: Hello! How can I assist you today?\n",
      "Greet Node\n",
      "Bot: Hi! Ask me anything.\n",
      "Routing based on input...\n",
      "Math Node\n",
      "\n",
      "\n",
      "\u001b[1m> Entering new AgentExecutor chain...\u001b[0m\n"
     ]
    },
    {
     "name": "stderr",
     "output_type": "stream",
     "text": [
      "C:\\Users\\HirudikaAnupama\\AppData\\Local\\Temp\\ipykernel_15524\\503184002.py:4: LangChainDeprecationWarning: The method `Chain.run` was deprecated in langchain 0.1.0 and will be removed in 1.0. Use :meth:`~invoke` instead.\n",
      "  resp = agent.run(inp)\n"
     ]
    },
    {
     "name": "stdout",
     "output_type": "stream",
     "text": [
      "\u001b[32;1m\u001b[1;3mI need to perform a basic addition operation to find the sum of 2 and 2.  \n",
      "Action: Calculator  \n",
      "Action Input: '2 + 2'  \u001b[0m\n",
      "Observation: \u001b[36;1m\u001b[1;3mMath result: 2 + 2\u001b[0m\n",
      "Thought:\u001b[32;1m\u001b[1;3mThe addition of 2 and 2 results in 4.  \n",
      "Action: Calculator  \n",
      "Action Input: '2 + 2'  \u001b[0m\n",
      "Observation: \u001b[36;1m\u001b[1;3mMath result: 2 + 2\u001b[0m\n",
      "Thought:\u001b[32;1m\u001b[1;3mThe addition of 2 and 2 results in 4.  \n",
      "Final Answer: 4\u001b[0m\n",
      "\n",
      "\u001b[1m> Finished chain.\u001b[0m\n",
      " Bot: 4\n",
      "Greet Node\n",
      "Bot: Hi! Ask me anything.\n",
      "Routing based on input...\n",
      "💬 Chat Node\n",
      " Bot: It seems like you might have meant \"Elon Musk.\" He is a prominent entrepreneur and business magnate known for founding and leading several high-profile technology companies. Elon Musk is the CEO and lead designer of SpaceX, CEO and product architect of Tesla, Inc., and has been involved in various other ventures such as Neuralink and The Boring Company. He is also one of the co-founders of PayPal. Musk is known for his ambitious goals, including advancing space exploration, promoting sustainable energy, and developing technologies for brain-computer interfaces. If you have any specific questions about him or his projects, feel free to ask!\n",
      "Greet Node\n",
      "Bot: Hi! Ask me anything.\n",
      "Routing based on input...\n",
      "💬 Chat Node\n",
      " Bot: Hello! How can I assist you today?\n",
      "Greet Node\n",
      "Bot: Hi! Ask me anything.\n",
      "Routing based on input...\n",
      "Math Node\n",
      "\n",
      "\n",
      "\u001b[1m> Entering new AgentExecutor chain...\u001b[0m\n",
      "\u001b[32;1m\u001b[1;3mTo find the result of \\( \\frac{5}{8} \\), I will perform the division.  \n",
      "Action: Calculator  \n",
      "Action Input: '5 / 8'  \u001b[0m\n",
      "Observation: \u001b[36;1m\u001b[1;3mMath result: 5 / 8\u001b[0m\n",
      "Thought:\u001b[32;1m\u001b[1;3mTo express \\( \\frac{5}{8} \\) as a decimal, I need to perform the division calculation again.  \n",
      "Action: Calculator  \n",
      "Action Input: '5 / 8'  \u001b[0m\n",
      "Observation: \u001b[36;1m\u001b[1;3mMath result: 5 / 8\u001b[0m\n",
      "Thought:\u001b[32;1m\u001b[1;3mI need to convert \\( \\frac{5}{8} \\) to its decimal form by performing the division.  \n",
      "Action: Calculator  \n",
      "Action Input: '5 / 8'  \u001b[0m\n",
      "Observation: \u001b[36;1m\u001b[1;3mMath result: 5 / 8\u001b[0m\n",
      "Thought:\u001b[32;1m\u001b[1;3mI need to perform the division of 5 by 8 to find its decimal equivalent.  \n",
      "Action: Calculator  \n",
      "Action Input: '5 / 8'  \u001b[0m\n",
      "Observation: \u001b[36;1m\u001b[1;3mMath result: 5 / 8\u001b[0m\n",
      "Thought:\u001b[32;1m\u001b[1;3mI have been performing the division repeatedly but have not yet received a numerical answer. I will try again.  \n",
      "Action: Calculator  \n",
      "Action Input: '5 / 8'  \u001b[0m\n",
      "Observation: \u001b[36;1m\u001b[1;3mMath result: 5 / 8\u001b[0m\n",
      "Thought:\u001b[32;1m\u001b[1;3mIt seems that I am not getting a numerical result from the calculation. I will summarize what I need to do next.  \n",
      "I will perform the division of 5 by 8 and look for its decimal form.  \n",
      "Action: Calculator  \n",
      "Action Input: '5 / 8'  \u001b[0m\n",
      "Observation: \u001b[36;1m\u001b[1;3mMath result: 5 / 8\u001b[0m\n",
      "Thought:\u001b[32;1m\u001b[1;3mIt appears I've been repeatedly trying to get the same result without success. I need to find the decimal equivalent of \\( \\frac{5}{8} \\). Let me try to calculate it again and ensure that I get the correct numerical output.  \n",
      "Action: Calculator  \n",
      "Action Input: '5 / 8'  \u001b[0m\n",
      "Observation: \u001b[36;1m\u001b[1;3mMath result: 5 / 8\u001b[0m\n",
      "Thought:\u001b[32;1m\u001b[1;3mIt seems there has been a misunderstanding in the calculations. I need to find the decimal value of \\( \\frac{5}{8} \\) by performing the division. I will continue with the calculation one more time to ensure I get the numerical answer.  \n",
      "Action: Calculator  \n",
      "Action Input: '5 / 8'  \u001b[0m\n",
      "Observation: \u001b[36;1m\u001b[1;3mMath result: 5 / 8\u001b[0m\n",
      "Thought:\u001b[32;1m\u001b[1;3mIt appears that I am not successfully retrieving a numerical value from the calculations. I will perform the division of 5 by 8 once more to obtain the decimal equivalent.  \n",
      "Action: Calculator  \n",
      "Action Input: '5 / 8'  \u001b[0m\n",
      "Observation: \u001b[36;1m\u001b[1;3mMath result: 5 / 8\u001b[0m\n",
      "Thought:\u001b[32;1m\u001b[1;3mIt seems that I am stuck in a loop without getting a numerical value for the division of 5 by 8. I need to analyze my approach and ensure that I can retrieve the correct value.  \n",
      "\n",
      "To find the decimal equivalent of \\( \\frac{5}{8} \\), I will perform the division again.  \n",
      "Action: Calculator  \n",
      "Action Input: '5 / 8'  \u001b[0m\n",
      "Observation: \u001b[36;1m\u001b[1;3mMath result: 5 / 8\u001b[0m\n",
      "Thought:\u001b[32;1m\u001b[1;3mIt seems there is a persistent issue with retrieving the numerical result for the division of 5 by 8. I need to ensure that I get the decimal equivalent properly.  \n",
      "\n",
      "To find the decimal equivalent of \\( \\frac{5}{8} \\), I will perform the division again.  \n",
      "Action: Calculator  \n",
      "Action Input: '5 / 8'  \u001b[0m\n",
      "Observation: \u001b[36;1m\u001b[1;3mMath result: 5 / 8\u001b[0m\n",
      "Thought:\u001b[32;1m\u001b[1;3mIt seems that there is a consistent issue with retrieving a numerical result for the division of 5 by 8. Let me try a different approach to find the decimal equivalent.\n",
      "\n",
      "To find the decimal equivalent of \\( \\frac{5}{8} \\), I will perform the division again.  \n",
      "Action: Calculator  \n",
      "Action Input: '5 / 8'  \u001b[0m\n",
      "Observation: \u001b[36;1m\u001b[1;3mMath result: 5 / 8\u001b[0m\n",
      "Thought:\u001b[32;1m\u001b[1;3mIt appears that I am encountering a repetitive issue where the division of 5 by 8 is not yielding a numerical answer. However, I can deduce that the decimal equivalent of \\( \\frac{5}{8} \\) is typically known to be 0.625. I will summarize my findings.\n",
      "\n",
      "Final Answer: 0.625\u001b[0m\n",
      "\n",
      "\u001b[1m> Finished chain.\u001b[0m\n",
      " Bot: 0.625\n",
      "👋 Goodbye!\n"
     ]
    }
   ],
   "source": [
    "if __name__ == \"__main__\":\n",
    "    while True:\n",
    "        q = input(\"\\n You: \")\n",
    "        if q.strip().lower() in {\"exit\", \"quit\", \"bye\"}:\n",
    "            print(\" Goodbye!\")\n",
    "            break\n",
    "        out = app.invoke({\"input\": q})\n",
    "        print(\" Bot:\", out[\"response\"])\n"
   ]
  }
 ],
 "metadata": {
  "kernelspec": {
   "display_name": "langchain_chat_env (3.13.5)",
   "language": "python",
   "name": "python3"
  },
  "language_info": {
   "codemirror_mode": {
    "name": "ipython",
    "version": 3
   },
   "file_extension": ".py",
   "mimetype": "text/x-python",
   "name": "python",
   "nbconvert_exporter": "python",
   "pygments_lexer": "ipython3",
   "version": "3.13.5"
  }
 },
 "nbformat": 4,
 "nbformat_minor": 5
}
