{
 "cells": [
  {
   "cell_type": "markdown",
   "id": "b3a7cacf",
   "metadata": {},
   "source": [
    "### Load Environment Variables"
   ]
  },
  {
   "cell_type": "code",
   "execution_count": 1,
   "id": "87f411f2",
   "metadata": {},
   "outputs": [
    {
     "name": "stdout",
     "output_type": "stream",
     "text": [
      "All environment variables loaded\n"
     ]
    }
   ],
   "source": [
    "import os\n",
    "from dotenv import load_dotenv\n",
    "\n",
    "load_dotenv()  # Loads .env in current directory\n",
    "\n",
    "required_vars = [\n",
    "    \"OPENAI_API_KEY\",\n",
    "    \"LANGFUSE_PUBLIC_KEY\",\n",
    "    \"LANGFUSE_SECRET_KEY\",\n",
    "    \"LANGFUSE_HOST\",\n",
    "    \"POSTGRES_URL\",\n",
    "]\n",
    "\n",
    "for var in required_vars:\n",
    "    if not os.getenv(var):\n",
    "        raise ValueError(f\"Missing env var: {var}\")\n",
    "\n",
    "print(\"All environment variables loaded\")\n"
   ]
  },
  {
   "cell_type": "markdown",
   "id": "7aad0c51",
   "metadata": {},
   "source": [
    "### Create a Simple Knowledge Base File for RAG"
   ]
  },
  {
   "cell_type": "code",
   "execution_count": 2,
   "id": "6af1548f",
   "metadata": {},
   "outputs": [
    {
     "name": "stdout",
     "output_type": "stream",
     "text": [
      "context.txt file created\n"
     ]
    }
   ],
   "source": [
    "with open(\"context.txt\", \"w\") as f:\n",
    "    f.write(\"\"\"\n",
    "Elon Musk is the CEO of Tesla and SpaceX. He founded Neuralink and co-founded OpenAI.\n",
    "LangChain is a framework for building LLM-powered applications.\n",
    "LangGraph enables stateful, multi-step AI workflows.\n",
    "\"\"\")\n",
    "print(\"context.txt file created\")\n"
   ]
  },
  {
   "cell_type": "markdown",
   "id": "f7ff2cbc",
   "metadata": {},
   "source": [
    "### Build the Vector Store for RAG (Chroma)"
   ]
  },
  {
   "cell_type": "code",
   "execution_count": 3,
   "id": "07381d37",
   "metadata": {},
   "outputs": [],
   "source": [
    "from langchain.document_loaders import TextLoader\n",
    "from langchain.text_splitter import RecursiveCharacterTextSplitter\n",
    "from langchain.embeddings import OpenAIEmbeddings\n",
    "from langchain.vectorstores import Chroma\n",
    "\n",
    "loader = TextLoader(\"context.txt\")\n",
    "documents = loader.load()"
   ]
  },
  {
   "cell_type": "code",
   "execution_count": 4,
   "id": "59cb9004",
   "metadata": {},
   "outputs": [],
   "source": [
    "text_splitter = RecursiveCharacterTextSplitter(chunk_size=1000, chunk_overlap=200)\n",
    "split_docs = text_splitter.split_documents(documents)"
   ]
  },
  {
   "cell_type": "code",
   "execution_count": null,
   "id": "732d0153",
   "metadata": {},
   "outputs": [
    {
     "name": "stderr",
     "output_type": "stream",
     "text": [
      "C:\\Users\\HirudikaAnupama\\AppData\\Local\\Temp\\ipykernel_12664\\4165993874.py:7: LangChainDeprecationWarning: Since Chroma 0.4.x the manual persistence method is no longer supported as docs are automatically persisted.\n",
      "  vectorstore.persist()\n"
     ]
    }
   ],
   "source": [
    "vectorstore = Chroma.from_documents(\n",
    "    split_docs,\n",
    "    OpenAIEmbeddings(model=\"text-embedding-3-small\"),\n",
    "    persist_directory=\"rag_db\"\n",
    ")\n",
    "\n",
    "vectorstore.persist()"
   ]
  },
  {
   "cell_type": "markdown",
   "id": "f370044b",
   "metadata": {},
   "source": [
    "### Define LLM & RAG Search Helpers"
   ]
  },
  {
   "cell_type": "code",
   "execution_count": 9,
   "id": "2f82d9b8",
   "metadata": {},
   "outputs": [],
   "source": [
    "from langchain.chat_models import ChatOpenAI\n",
    "from langfuse.langchain import CallbackHandler\n",
    "\n",
    "def get_llm():\n",
    "    cb_handler = CallbackHandler()\n",
    "    llm = ChatOpenAI(model=\"gpt-4o-mini\", temperature=0.2, callbacks=[cb_handler])\n",
    "    return llm, cb_handler\n",
    "\n",
    "def search_docs(query):\n",
    "    db = Chroma(persist_directory=\"rag_db\", embedding_function=OpenAIEmbeddings())\n",
    "    results = db.similarity_search(query)\n",
    "    return results\n"
   ]
  },
  {
   "cell_type": "markdown",
   "id": "1c53cbf9",
   "metadata": {},
   "source": [
    "### LangGraph Workflow Setup (Postgres + Nodes)"
   ]
  },
  {
   "cell_type": "code",
   "execution_count": 48,
   "id": "62107343",
   "metadata": {},
   "outputs": [],
   "source": [
    "from pydantic import BaseModel\n",
    "from typing import Optional\n",
    "import os\n",
    "import asyncio\n",
    "\n",
    "from langgraph.graph import StateGraph\n",
    "from langgraph.types import Command\n",
    "from langgraph.checkpoint.postgres import PostgresSaver\n",
    "\n",
    "class StateSchema(BaseModel):\n",
    "    question: Optional[str] = None\n",
    "    context: Optional[str] = None\n",
    "    answer: Optional[str] = None\n",
    "\n",
    "llm, handler = get_llm()\n",
    "\n",
    "def decide_step(state):\n",
    "    question = (state.question or \"\").lower()\n",
    "    print(\"[decide_step] question:\", question)\n",
    "    if any(k in question for k in [\"who\", \"what\", \"tell me\"]):\n",
    "        return Command.next(\"search\")\n",
    "    return Command.next(\"direct_answer\")\n",
    "\n",
    "def search_step(state):\n",
    "    question = state.question\n",
    "    print(\"[search_step] Searching docs for:\", question)\n",
    "    docs = search_docs(question)\n",
    "    state.context = \"\\n\".join([doc.page_content for doc in docs])\n",
    "    return Command.next(\"generate_answer\")\n",
    "\n",
    "def generate_answer_step(state):\n",
    "    prompt = f\"Use this context to answer:\\n\\n{state.context}\\n\\nQ: {state.question}\"\n",
    "    print(\"[generate_answer_step] Generating answer...\")\n",
    "    state.answer = llm.predict(prompt)\n",
    "    return Command.end()\n",
    "\n",
    "def direct_answer_step(state):\n",
    "    print(\"[direct_answer_step] Directly answering...\")\n",
    "    state.answer = llm.predict(state.question)\n",
    "    return Command.end()\n",
    "\n",
    "def build_graph():\n",
    "    saver = PostgresSaver.from_conn_string(os.environ[\"POSTGRES_URL\"])\n",
    "    graph = StateGraph(state_schema=StateSchema)\n",
    "    graph.add_node(\"decide\", decide_step)\n",
    "    graph.add_node(\"search\", search_step)\n",
    "    graph.add_node(\"generate_answer\", generate_answer_step)\n",
    "    graph.add_node(\"direct_answer\", direct_answer_step)\n",
    "    graph.set_entry_point(\"decide\")\n",
    "    graph.add_edge(\"search\", \"generate_answer\")\n",
    "    compiled = graph.compile(checkpointer=saver)\n",
    "    return compiled\n",
    "\n",
    "\n"
   ]
  },
  {
   "cell_type": "code",
   "execution_count": 51,
   "id": "2e466e80",
   "metadata": {},
   "outputs": [
    {
     "ename": "ValueError",
     "evalue": "Graph must have an entrypoint: add at least one edge from START to another node",
     "output_type": "error",
     "traceback": [
      "\u001b[31m---------------------------------------------------------------------------\u001b[39m",
      "\u001b[31mValueError\u001b[39m                                Traceback (most recent call last)",
      "\u001b[36mCell\u001b[39m\u001b[36m \u001b[39m\u001b[32mIn[51]\u001b[39m\u001b[32m, line 5\u001b[39m\n\u001b[32m      3\u001b[39m graph = StateGraph(state_schema=StateSchema)\n\u001b[32m      4\u001b[39m \u001b[38;5;66;03m# add nodes, edges...\u001b[39;00m\n\u001b[32m----> \u001b[39m\u001b[32m5\u001b[39m compiled_graph = \u001b[43mgraph\u001b[49m\u001b[43m.\u001b[49m\u001b[43mcompile\u001b[49m\u001b[43m(\u001b[49m\u001b[43mcheckpointer\u001b[49m\u001b[43m=\u001b[49m\u001b[43msaver\u001b[49m\u001b[43m)\u001b[49m\n\u001b[32m      7\u001b[39m \u001b[38;5;28;01mwith\u001b[39;00m saver:\n\u001b[32m      8\u001b[39m     result = compiled_graph.invoke(\n\u001b[32m      9\u001b[39m         {\u001b[33m\"\u001b[39m\u001b[33mquestion\u001b[39m\u001b[33m\"\u001b[39m: \u001b[33m\"\u001b[39m\u001b[33mWho is Elon Musk?\u001b[39m\u001b[33m\"\u001b[39m},\n\u001b[32m     10\u001b[39m         config={\n\u001b[32m   (...)\u001b[39m\u001b[32m     14\u001b[39m         }\n\u001b[32m     15\u001b[39m     )\n",
      "\u001b[36mFile \u001b[39m\u001b[32mc:\\Users\\HirudikaAnupama\\Desktop\\My folder\\LangChain-and-LangGraph\\langchain_chat_env\\Lib\\site-packages\\langgraph\\graph\\state.py:822\u001b[39m, in \u001b[36mStateGraph.compile\u001b[39m\u001b[34m(self, checkpointer, cache, store, interrupt_before, interrupt_after, debug, name)\u001b[39m\n\u001b[32m    819\u001b[39m interrupt_after = interrupt_after \u001b[38;5;129;01mor\u001b[39;00m []\n\u001b[32m    821\u001b[39m \u001b[38;5;66;03m# validate the graph\u001b[39;00m\n\u001b[32m--> \u001b[39m\u001b[32m822\u001b[39m \u001b[38;5;28;43mself\u001b[39;49m\u001b[43m.\u001b[49m\u001b[43mvalidate\u001b[49m\u001b[43m(\u001b[49m\n\u001b[32m    823\u001b[39m \u001b[43m    \u001b[49m\u001b[43minterrupt\u001b[49m\u001b[43m=\u001b[49m\u001b[43m(\u001b[49m\n\u001b[32m    824\u001b[39m \u001b[43m        \u001b[49m\u001b[43m(\u001b[49m\u001b[43minterrupt_before\u001b[49m\u001b[43m \u001b[49m\u001b[38;5;28;43;01mif\u001b[39;49;00m\u001b[43m \u001b[49m\u001b[43minterrupt_before\u001b[49m\u001b[43m \u001b[49m\u001b[43m!=\u001b[49m\u001b[43m \u001b[49m\u001b[33;43m\"\u001b[39;49m\u001b[33;43m*\u001b[39;49m\u001b[33;43m\"\u001b[39;49m\u001b[43m \u001b[49m\u001b[38;5;28;43;01melse\u001b[39;49;00m\u001b[43m \u001b[49m\u001b[43m[\u001b[49m\u001b[43m]\u001b[49m\u001b[43m)\u001b[49m\u001b[43m \u001b[49m\u001b[43m+\u001b[49m\u001b[43m \u001b[49m\u001b[43minterrupt_after\u001b[49m\n\u001b[32m    825\u001b[39m \u001b[43m        \u001b[49m\u001b[38;5;28;43;01mif\u001b[39;49;00m\u001b[43m \u001b[49m\u001b[43minterrupt_after\u001b[49m\u001b[43m \u001b[49m\u001b[43m!=\u001b[49m\u001b[43m \u001b[49m\u001b[33;43m\"\u001b[39;49m\u001b[33;43m*\u001b[39;49m\u001b[33;43m\"\u001b[39;49m\n\u001b[32m    826\u001b[39m \u001b[43m        \u001b[49m\u001b[38;5;28;43;01melse\u001b[39;49;00m\u001b[43m \u001b[49m\u001b[43m[\u001b[49m\u001b[43m]\u001b[49m\n\u001b[32m    827\u001b[39m \u001b[43m    \u001b[49m\u001b[43m)\u001b[49m\n\u001b[32m    828\u001b[39m \u001b[43m\u001b[49m\u001b[43m)\u001b[49m\n\u001b[32m    830\u001b[39m \u001b[38;5;66;03m# prepare output channels\u001b[39;00m\n\u001b[32m    831\u001b[39m output_channels = (\n\u001b[32m    832\u001b[39m     \u001b[33m\"\u001b[39m\u001b[33m__root__\u001b[39m\u001b[33m\"\u001b[39m\n\u001b[32m    833\u001b[39m     \u001b[38;5;28;01mif\u001b[39;00m \u001b[38;5;28mlen\u001b[39m(\u001b[38;5;28mself\u001b[39m.schemas[\u001b[38;5;28mself\u001b[39m.output_schema]) == \u001b[32m1\u001b[39m\n\u001b[32m   (...)\u001b[39m\u001b[32m    839\u001b[39m     ]\n\u001b[32m    840\u001b[39m )\n",
      "\u001b[36mFile \u001b[39m\u001b[32mc:\\Users\\HirudikaAnupama\\Desktop\\My folder\\LangChain-and-LangGraph\\langchain_chat_env\\Lib\\site-packages\\langgraph\\graph\\state.py:752\u001b[39m, in \u001b[36mStateGraph.validate\u001b[39m\u001b[34m(self, interrupt)\u001b[39m\n\u001b[32m    749\u001b[39m         \u001b[38;5;28;01mraise\u001b[39;00m \u001b[38;5;167;01mValueError\u001b[39;00m(\u001b[33mf\u001b[39m\u001b[33m\"\u001b[39m\u001b[33mFound edge starting at unknown node \u001b[39m\u001b[33m'\u001b[39m\u001b[38;5;132;01m{\u001b[39;00msource\u001b[38;5;132;01m}\u001b[39;00m\u001b[33m'\u001b[39m\u001b[33m\"\u001b[39m)\n\u001b[32m    751\u001b[39m \u001b[38;5;28;01mif\u001b[39;00m START \u001b[38;5;129;01mnot\u001b[39;00m \u001b[38;5;129;01min\u001b[39;00m all_sources:\n\u001b[32m--> \u001b[39m\u001b[32m752\u001b[39m     \u001b[38;5;28;01mraise\u001b[39;00m \u001b[38;5;167;01mValueError\u001b[39;00m(\n\u001b[32m    753\u001b[39m         \u001b[33m\"\u001b[39m\u001b[33mGraph must have an entrypoint: add at least one edge from START to another node\u001b[39m\u001b[33m\"\u001b[39m\n\u001b[32m    754\u001b[39m     )\n\u001b[32m    756\u001b[39m \u001b[38;5;66;03m# assemble targets\u001b[39;00m\n\u001b[32m    757\u001b[39m all_targets = {end \u001b[38;5;28;01mfor\u001b[39;00m _, end \u001b[38;5;129;01min\u001b[39;00m \u001b[38;5;28mself\u001b[39m._all_edges}\n",
      "\u001b[31mValueError\u001b[39m: Graph must have an entrypoint: add at least one edge from START to another node"
     ]
    }
   ],
   "source": [
    "saver = PostgresSaver.from_conn_string(os.environ[\"POSTGRES_URL\"])\n",
    "\n",
    "graph = StateGraph(state_schema=StateSchema)\n",
    "# add nodes, edges...\n",
    "compiled_graph = graph.compile(checkpointer=saver)\n",
    "\n",
    "with saver:\n",
    "    result = compiled_graph.invoke(\n",
    "        {\"question\": \"Who is Elon Musk?\"},\n",
    "        config={\n",
    "            \"checkpoint_ns\": \"rag_agent\",\n",
    "            \"checkpoint_id\": \"session1\",\n",
    "            \"thread_id\": \"main_thread\",\n",
    "        }\n",
    "    )\n",
    "    print(\"Answer:\", result.get(\"answer\"))\n"
   ]
  },
  {
   "cell_type": "code",
   "execution_count": null,
   "id": "cc92ce53",
   "metadata": {},
   "outputs": [],
   "source": []
  }
 ],
 "metadata": {
  "kernelspec": {
   "display_name": "langchain_chat_env (3.13.5)",
   "language": "python",
   "name": "python3"
  },
  "language_info": {
   "codemirror_mode": {
    "name": "ipython",
    "version": 3
   },
   "file_extension": ".py",
   "mimetype": "text/x-python",
   "name": "python",
   "nbconvert_exporter": "python",
   "pygments_lexer": "ipython3",
   "version": "3.13.5"
  }
 },
 "nbformat": 4,
 "nbformat_minor": 5
}
